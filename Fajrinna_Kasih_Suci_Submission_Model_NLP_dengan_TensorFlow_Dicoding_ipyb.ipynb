{
  "nbformat": 4,
  "nbformat_minor": 0,
  "metadata": {
    "colab": {
      "name": "Fajrinna Kasih Suci_Submission_Model NLP dengan TensorFlow_Dicoding.ipyb",
      "provenance": []
    },
    "kernelspec": {
      "name": "python3",
      "display_name": "Python 3"
    },
    "language_info": {
      "name": "python"
    }
  },
  "cells": [
    {
      "cell_type": "markdown",
      "metadata": {
        "id": "NXjKQI0gyRfD"
      },
      "source": [
        "#Membuat Model NLP dengan TensorFlow\n",
        "Nama : Fajrinna Kasih Suci | Email Dicoding : fajrinnaks@gmail.com | Kelas : Machine Learning untuk pemula"
      ]
    },
    {
      "cell_type": "markdown",
      "metadata": {
        "id": "63MZ58BQyeT9"
      },
      "source": [
        "**1. Import Library yang dibutuhkan**"
      ]
    },
    {
      "cell_type": "code",
      "metadata": {
        "colab": {
          "base_uri": "https://localhost:8080/"
        },
        "id": "FGru3V5RqXSb",
        "outputId": "648835c7-c101-49d4-f130-6149da612733"
      },
      "source": [
        "#membaca file dataset\n",
        "import pandas as pd\n",
        "\n",
        "#import library untuk proses machine learning\n",
        "import tensorflow as tf\n",
        "import numpy as np\n",
        "from tensorflow.keras.preprocessing.text import Tokenizer\n",
        "from tensorflow.keras.preprocessing.sequence import pad_sequences\n",
        "\n",
        "#library NLTK untuk membersihkan data teks\n",
        "import nltk\n",
        "nltk.download('stopwords')\n",
        "STOPWORDS = nltk.corpus.stopwords.words('english')\n",
        "\n",
        "#untuk menampilkan grafik\n",
        "import matplotlib.pyplot as plt\n",
        "import matplotlib.image as mpimg\n",
        "import matplotlib.pyplot as plt\n",
        "import matplotlib.image as mpimg\n",
        "%matplotlib inline"
      ],
      "execution_count": 35,
      "outputs": [
        {
          "output_type": "stream",
          "text": [
            "[nltk_data] Downloading package stopwords to /root/nltk_data...\n",
            "[nltk_data]   Package stopwords is already up-to-date!\n"
          ],
          "name": "stdout"
        }
      ]
    },
    {
      "cell_type": "markdown",
      "metadata": {
        "id": "ZitqjJHZy5A3"
      },
      "source": [
        "**2. Menyiapkan Dataset**"
      ]
    },
    {
      "cell_type": "code",
      "metadata": {
        "id": "1sBFW3qKqczm"
      },
      "source": [
        "df = pd.read_csv('bbc-news-data.csv',sep='\\t' )"
      ],
      "execution_count": 13,
      "outputs": []
    },
    {
      "cell_type": "code",
      "metadata": {
        "colab": {
          "base_uri": "https://localhost:8080/",
          "height": 206
        },
        "id": "QPbOMJcfqjA0",
        "outputId": "1808ad77-5d41-4018-9d90-26312bb6d8c1"
      },
      "source": [
        "df.tail()"
      ],
      "execution_count": 14,
      "outputs": [
        {
          "output_type": "execute_result",
          "data": {
            "text/html": [
              "<div>\n",
              "<style scoped>\n",
              "    .dataframe tbody tr th:only-of-type {\n",
              "        vertical-align: middle;\n",
              "    }\n",
              "\n",
              "    .dataframe tbody tr th {\n",
              "        vertical-align: top;\n",
              "    }\n",
              "\n",
              "    .dataframe thead th {\n",
              "        text-align: right;\n",
              "    }\n",
              "</style>\n",
              "<table border=\"1\" class=\"dataframe\">\n",
              "  <thead>\n",
              "    <tr style=\"text-align: right;\">\n",
              "      <th></th>\n",
              "      <th>category</th>\n",
              "      <th>filename</th>\n",
              "      <th>title</th>\n",
              "      <th>content</th>\n",
              "    </tr>\n",
              "  </thead>\n",
              "  <tbody>\n",
              "    <tr>\n",
              "      <th>2220</th>\n",
              "      <td>tech</td>\n",
              "      <td>397.txt</td>\n",
              "      <td>BT program to beat dialler scams</td>\n",
              "      <td>BT is introducing two initiatives to help bea...</td>\n",
              "    </tr>\n",
              "    <tr>\n",
              "      <th>2221</th>\n",
              "      <td>tech</td>\n",
              "      <td>398.txt</td>\n",
              "      <td>Spam e-mails tempt net shoppers</td>\n",
              "      <td>Computer users across the world continue to i...</td>\n",
              "    </tr>\n",
              "    <tr>\n",
              "      <th>2222</th>\n",
              "      <td>tech</td>\n",
              "      <td>399.txt</td>\n",
              "      <td>Be careful how you code</td>\n",
              "      <td>A new European directive could put software w...</td>\n",
              "    </tr>\n",
              "    <tr>\n",
              "      <th>2223</th>\n",
              "      <td>tech</td>\n",
              "      <td>400.txt</td>\n",
              "      <td>US cyber security chief resigns</td>\n",
              "      <td>The man making sure US computer networks are ...</td>\n",
              "    </tr>\n",
              "    <tr>\n",
              "      <th>2224</th>\n",
              "      <td>tech</td>\n",
              "      <td>401.txt</td>\n",
              "      <td>Losing yourself in online gaming</td>\n",
              "      <td>Online role playing games are time-consuming,...</td>\n",
              "    </tr>\n",
              "  </tbody>\n",
              "</table>\n",
              "</div>"
            ],
            "text/plain": [
              "     category  ...                                            content\n",
              "2220     tech  ...   BT is introducing two initiatives to help bea...\n",
              "2221     tech  ...   Computer users across the world continue to i...\n",
              "2222     tech  ...   A new European directive could put software w...\n",
              "2223     tech  ...   The man making sure US computer networks are ...\n",
              "2224     tech  ...   Online role playing games are time-consuming,...\n",
              "\n",
              "[5 rows x 4 columns]"
            ]
          },
          "metadata": {
            "tags": []
          },
          "execution_count": 14
        }
      ]
    },
    {
      "cell_type": "code",
      "metadata": {
        "id": "VHlBrosHqoDi"
      },
      "source": [
        "# Menghapus column yang tidak diperlukan\n",
        "df=df.drop(columns=['filename','title']) "
      ],
      "execution_count": 16,
      "outputs": []
    },
    {
      "cell_type": "code",
      "metadata": {
        "colab": {
          "base_uri": "https://localhost:8080/",
          "height": 423
        },
        "id": "jJxIz_8Sq3iq",
        "outputId": "c9e71d54-3b98-4d52-b8e4-7487099d4279"
      },
      "source": [
        "df"
      ],
      "execution_count": 17,
      "outputs": [
        {
          "output_type": "execute_result",
          "data": {
            "text/html": [
              "<div>\n",
              "<style scoped>\n",
              "    .dataframe tbody tr th:only-of-type {\n",
              "        vertical-align: middle;\n",
              "    }\n",
              "\n",
              "    .dataframe tbody tr th {\n",
              "        vertical-align: top;\n",
              "    }\n",
              "\n",
              "    .dataframe thead th {\n",
              "        text-align: right;\n",
              "    }\n",
              "</style>\n",
              "<table border=\"1\" class=\"dataframe\">\n",
              "  <thead>\n",
              "    <tr style=\"text-align: right;\">\n",
              "      <th></th>\n",
              "      <th>category</th>\n",
              "      <th>content</th>\n",
              "    </tr>\n",
              "  </thead>\n",
              "  <tbody>\n",
              "    <tr>\n",
              "      <th>0</th>\n",
              "      <td>business</td>\n",
              "      <td>Quarterly profits at US media giant TimeWarne...</td>\n",
              "    </tr>\n",
              "    <tr>\n",
              "      <th>1</th>\n",
              "      <td>business</td>\n",
              "      <td>The dollar has hit its highest level against ...</td>\n",
              "    </tr>\n",
              "    <tr>\n",
              "      <th>2</th>\n",
              "      <td>business</td>\n",
              "      <td>The owners of embattled Russian oil giant Yuk...</td>\n",
              "    </tr>\n",
              "    <tr>\n",
              "      <th>3</th>\n",
              "      <td>business</td>\n",
              "      <td>British Airways has blamed high fuel prices f...</td>\n",
              "    </tr>\n",
              "    <tr>\n",
              "      <th>4</th>\n",
              "      <td>business</td>\n",
              "      <td>Shares in UK drinks and food firm Allied Dome...</td>\n",
              "    </tr>\n",
              "    <tr>\n",
              "      <th>...</th>\n",
              "      <td>...</td>\n",
              "      <td>...</td>\n",
              "    </tr>\n",
              "    <tr>\n",
              "      <th>2220</th>\n",
              "      <td>tech</td>\n",
              "      <td>BT is introducing two initiatives to help bea...</td>\n",
              "    </tr>\n",
              "    <tr>\n",
              "      <th>2221</th>\n",
              "      <td>tech</td>\n",
              "      <td>Computer users across the world continue to i...</td>\n",
              "    </tr>\n",
              "    <tr>\n",
              "      <th>2222</th>\n",
              "      <td>tech</td>\n",
              "      <td>A new European directive could put software w...</td>\n",
              "    </tr>\n",
              "    <tr>\n",
              "      <th>2223</th>\n",
              "      <td>tech</td>\n",
              "      <td>The man making sure US computer networks are ...</td>\n",
              "    </tr>\n",
              "    <tr>\n",
              "      <th>2224</th>\n",
              "      <td>tech</td>\n",
              "      <td>Online role playing games are time-consuming,...</td>\n",
              "    </tr>\n",
              "  </tbody>\n",
              "</table>\n",
              "<p>2225 rows × 2 columns</p>\n",
              "</div>"
            ],
            "text/plain": [
              "      category                                            content\n",
              "0     business   Quarterly profits at US media giant TimeWarne...\n",
              "1     business   The dollar has hit its highest level against ...\n",
              "2     business   The owners of embattled Russian oil giant Yuk...\n",
              "3     business   British Airways has blamed high fuel prices f...\n",
              "4     business   Shares in UK drinks and food firm Allied Dome...\n",
              "...        ...                                                ...\n",
              "2220      tech   BT is introducing two initiatives to help bea...\n",
              "2221      tech   Computer users across the world continue to i...\n",
              "2222      tech   A new European directive could put software w...\n",
              "2223      tech   The man making sure US computer networks are ...\n",
              "2224      tech   Online role playing games are time-consuming,...\n",
              "\n",
              "[2225 rows x 2 columns]"
            ]
          },
          "metadata": {
            "tags": []
          },
          "execution_count": 17
        }
      ]
    },
    {
      "cell_type": "code",
      "metadata": {
        "colab": {
          "base_uri": "https://localhost:8080/",
          "height": 361
        },
        "id": "3saSA5-XrJec",
        "outputId": "fc72f985-86bd-4448-9c93-3a1ec7408b21"
      },
      "source": [
        "#melihat persebaran dari kolom 'category'\n",
        "df['category'].value_counts().plot(kind='bar', title='News category')"
      ],
      "execution_count": 18,
      "outputs": [
        {
          "output_type": "execute_result",
          "data": {
            "text/plain": [
              "<matplotlib.axes._subplots.AxesSubplot at 0x7f20eb8e2750>"
            ]
          },
          "metadata": {
            "tags": []
          },
          "execution_count": 18
        },
        {
          "output_type": "display_data",
          "data": {
            "image/png": "[encoded data removed]",
            "text/plain": [
              "<Figure size 432x288 with 1 Axes>"
            ]
          },
          "metadata": {
            "tags": [],
            "needs_background": "light"
          }
        }
      ]
    },
    {
      "cell_type": "markdown",
      "metadata": {
        "id": "bFOTH9VlzKDn"
      },
      "source": [
        "**3. Cleaning text dengan ReGex**"
      ]
    },
    {
      "cell_type": "code",
      "metadata": {
        "id": "QvRDISrOrbIJ"
      },
      "source": [
        "import re\n",
        "df = df.reset_index(drop=True)\n",
        "REPLACE_BY_SPACE_RE = re.compile('[/(){}\\[\\]\\|@,;]')\n",
        "BAD_SYMBOLS_RE = re.compile('[^0-9a-z #+_]')"
      ],
      "execution_count": 19,
      "outputs": []
    },
    {
      "cell_type": "code",
      "metadata": {
        "id": "Ly5v7ps8rk1B"
      },
      "source": [
        "def clean_text(text):\n",
        "    text = text.lower() # lowercase teks\n",
        "    text = REPLACE_BY_SPACE_RE.sub(' ', text) #mengganti simbol yang termasuk REPLACE_BY_SPACE_RE pada tekslalu subsitusi dengan space\n",
        "    text = BAD_SYMBOLS_RE.sub('', text) # hilangkan simbol2 yang merupakan BAD_SYMBOLS_RE lalu subsitusi dengan space\n",
        "    text = text.replace('x', '')\n",
        "#    text = re.sub(r'\\W+', '', text)\n",
        "    text = ' '.join(word for word in text.split() if word not in STOPWORDS) # remove stopwors from text\n",
        "    return text"
      ],
      "execution_count": 22,
      "outputs": []
    },
    {
      "cell_type": "code",
      "metadata": {
        "id": "rHWAAiWsrrHE"
      },
      "source": [
        "df['content'] = df['content'].apply(clean_text)"
      ],
      "execution_count": 23,
      "outputs": []
    },
    {
      "cell_type": "code",
      "metadata": {
        "colab": {
          "base_uri": "https://localhost:8080/"
        },
        "id": "NhUMLuSLruzC",
        "outputId": "c5c9e821-91b2-4529-b199-7a7fe1ea846f"
      },
      "source": [
        "df['content'] # cek teks apakah sudah cleaned"
      ],
      "execution_count": 24,
      "outputs": [
        {
          "output_type": "execute_result",
          "data": {
            "text/plain": [
              "0       quarterly profits us media giant timewarner ju...\n",
              "1       dollar hit highest level euro almost three mon...\n",
              "2       owners embattled russian oil giant yukos ask b...\n",
              "3       british airways blamed high fuel prices 40 dro...\n",
              "4       shares uk drinks food firm allied domecq risen...\n",
              "                              ...                        \n",
              "2220    bt introducing two initiatives help beat rogue...\n",
              "2221    computer users across world continue ignore se...\n",
              "2222    new european directive could put software writ...\n",
              "2223    man making sure us computer networks safe secu...\n",
              "2224    online role playing games timeconsuming enthra...\n",
              "Name: content, Length: 2225, dtype: object"
            ]
          },
          "metadata": {
            "tags": []
          },
          "execution_count": 24
        }
      ]
    },
    {
      "cell_type": "markdown",
      "metadata": {
        "id": "XqiuPnye050C"
      },
      "source": [
        "**4. melakukan one-hot-encoding dan membuat dataframe baru**"
      ]
    },
    {
      "cell_type": "code",
      "metadata": {
        "colab": {
          "base_uri": "https://localhost:8080/",
          "height": 423
        },
        "id": "c6tkaA7gr7S8",
        "outputId": "1c35c4b2-8201-4741-8f0b-9f2bfa9063c6"
      },
      "source": [
        "Y = pd.get_dummies(df['category'])\n",
        "df_baru = pd.concat([df, Y], axis=1)\n",
        "df_baru = df_baru.drop(columns='category')\n",
        "df_baru"
      ],
      "execution_count": 25,
      "outputs": [
        {
          "output_type": "execute_result",
          "data": {
            "text/html": [
              "<div>\n",
              "<style scoped>\n",
              "    .dataframe tbody tr th:only-of-type {\n",
              "        vertical-align: middle;\n",
              "    }\n",
              "\n",
              "    .dataframe tbody tr th {\n",
              "        vertical-align: top;\n",
              "    }\n",
              "\n",
              "    .dataframe thead th {\n",
              "        text-align: right;\n",
              "    }\n",
              "</style>\n",
              "<table border=\"1\" class=\"dataframe\">\n",
              "  <thead>\n",
              "    <tr style=\"text-align: right;\">\n",
              "      <th></th>\n",
              "      <th>content</th>\n",
              "      <th>business</th>\n",
              "      <th>entertainment</th>\n",
              "      <th>politics</th>\n",
              "      <th>sport</th>\n",
              "      <th>tech</th>\n",
              "    </tr>\n",
              "  </thead>\n",
              "  <tbody>\n",
              "    <tr>\n",
              "      <th>0</th>\n",
              "      <td>quarterly profits us media giant timewarner ju...</td>\n",
              "      <td>1</td>\n",
              "      <td>0</td>\n",
              "      <td>0</td>\n",
              "      <td>0</td>\n",
              "      <td>0</td>\n",
              "    </tr>\n",
              "    <tr>\n",
              "      <th>1</th>\n",
              "      <td>dollar hit highest level euro almost three mon...</td>\n",
              "      <td>1</td>\n",
              "      <td>0</td>\n",
              "      <td>0</td>\n",
              "      <td>0</td>\n",
              "      <td>0</td>\n",
              "    </tr>\n",
              "    <tr>\n",
              "      <th>2</th>\n",
              "      <td>owners embattled russian oil giant yukos ask b...</td>\n",
              "      <td>1</td>\n",
              "      <td>0</td>\n",
              "      <td>0</td>\n",
              "      <td>0</td>\n",
              "      <td>0</td>\n",
              "    </tr>\n",
              "    <tr>\n",
              "      <th>3</th>\n",
              "      <td>british airways blamed high fuel prices 40 dro...</td>\n",
              "      <td>1</td>\n",
              "      <td>0</td>\n",
              "      <td>0</td>\n",
              "      <td>0</td>\n",
              "      <td>0</td>\n",
              "    </tr>\n",
              "    <tr>\n",
              "      <th>4</th>\n",
              "      <td>shares uk drinks food firm allied domecq risen...</td>\n",
              "      <td>1</td>\n",
              "      <td>0</td>\n",
              "      <td>0</td>\n",
              "      <td>0</td>\n",
              "      <td>0</td>\n",
              "    </tr>\n",
              "    <tr>\n",
              "      <th>...</th>\n",
              "      <td>...</td>\n",
              "      <td>...</td>\n",
              "      <td>...</td>\n",
              "      <td>...</td>\n",
              "      <td>...</td>\n",
              "      <td>...</td>\n",
              "    </tr>\n",
              "    <tr>\n",
              "      <th>2220</th>\n",
              "      <td>bt introducing two initiatives help beat rogue...</td>\n",
              "      <td>0</td>\n",
              "      <td>0</td>\n",
              "      <td>0</td>\n",
              "      <td>0</td>\n",
              "      <td>1</td>\n",
              "    </tr>\n",
              "    <tr>\n",
              "      <th>2221</th>\n",
              "      <td>computer users across world continue ignore se...</td>\n",
              "      <td>0</td>\n",
              "      <td>0</td>\n",
              "      <td>0</td>\n",
              "      <td>0</td>\n",
              "      <td>1</td>\n",
              "    </tr>\n",
              "    <tr>\n",
              "      <th>2222</th>\n",
              "      <td>new european directive could put software writ...</td>\n",
              "      <td>0</td>\n",
              "      <td>0</td>\n",
              "      <td>0</td>\n",
              "      <td>0</td>\n",
              "      <td>1</td>\n",
              "    </tr>\n",
              "    <tr>\n",
              "      <th>2223</th>\n",
              "      <td>man making sure us computer networks safe secu...</td>\n",
              "      <td>0</td>\n",
              "      <td>0</td>\n",
              "      <td>0</td>\n",
              "      <td>0</td>\n",
              "      <td>1</td>\n",
              "    </tr>\n",
              "    <tr>\n",
              "      <th>2224</th>\n",
              "      <td>online role playing games timeconsuming enthra...</td>\n",
              "      <td>0</td>\n",
              "      <td>0</td>\n",
              "      <td>0</td>\n",
              "      <td>0</td>\n",
              "      <td>1</td>\n",
              "    </tr>\n",
              "  </tbody>\n",
              "</table>\n",
              "<p>2225 rows × 6 columns</p>\n",
              "</div>"
            ],
            "text/plain": [
              "                                                content  business  ...  sport  tech\n",
              "0     quarterly profits us media giant timewarner ju...         1  ...      0     0\n",
              "1     dollar hit highest level euro almost three mon...         1  ...      0     0\n",
              "2     owners embattled russian oil giant yukos ask b...         1  ...      0     0\n",
              "3     british airways blamed high fuel prices 40 dro...         1  ...      0     0\n",
              "4     shares uk drinks food firm allied domecq risen...         1  ...      0     0\n",
              "...                                                 ...       ...  ...    ...   ...\n",
              "2220  bt introducing two initiatives help beat rogue...         0  ...      0     1\n",
              "2221  computer users across world continue ignore se...         0  ...      0     1\n",
              "2222  new european directive could put software writ...         0  ...      0     1\n",
              "2223  man making sure us computer networks safe secu...         0  ...      0     1\n",
              "2224  online role playing games timeconsuming enthra...         0  ...      0     1\n",
              "\n",
              "[2225 rows x 6 columns]"
            ]
          },
          "metadata": {
            "tags": []
          },
          "execution_count": 25
        }
      ]
    },
    {
      "cell_type": "code",
      "metadata": {
        "id": "uvleuCiGsOqF"
      },
      "source": [
        "# mengubah nilai-nilai dari dataframe ke dalam tipe data numpy array menggunakan atribut values\n",
        "issues = df_baru['content'].values\n",
        "label = df_baru[['business', 'tech', 'entertainment', 'politics', 'sport']].values"
      ],
      "execution_count": 27,
      "outputs": []
    },
    {
      "cell_type": "code",
      "metadata": {
        "id": "uRMw9-q3sBAN"
      },
      "source": [
        "from sklearn.model_selection import train_test_split\n",
        "issues_latih, issues_test, label_latih, label_test = train_test_split(issues, label, test_size=0.2)"
      ],
      "execution_count": 28,
      "outputs": []
    },
    {
      "cell_type": "code",
      "metadata": {
        "id": "3cFjK8wcsFZK"
      },
      "source": [
        "tokenizer = Tokenizer(num_words=5000, oov_token='x', filters='!\"#$%&()*+,-./:;<=>?@[\\]^_`{|}~', lower=True)\n",
        "tokenizer.fit_on_texts(issues_latih) \n",
        "tokenizer.fit_on_texts(issues_test)\n",
        "\n",
        "issues_latih = tokenizer.texts_to_sequences(issues_latih)\n",
        "issues_test = tokenizer.texts_to_sequences(issues_test)\n",
        "\n",
        "padded_latih = pad_sequences(issues_latih) \n",
        "padded_test = pad_sequences(issues_test) "
      ],
      "execution_count": 30,
      "outputs": []
    },
    {
      "cell_type": "markdown",
      "metadata": {
        "id": "_H7B1x__0P4O"
      },
      "source": [
        "**5. Lakukan LSTM** "
      ]
    },
    {
      "cell_type": "code",
      "metadata": {
        "colab": {
          "base_uri": "https://localhost:8080/"
        },
        "id": "tHh1SQw2siY1",
        "outputId": "a7c99e7f-269f-489c-a0ed-44fddd34bb43"
      },
      "source": [
        "from tensorflow.keras.callbacks import EarlyStopping\n",
        "from tensorflow.keras.optimizers import Adam\n",
        "\n",
        "#membuat arsitektur LSTM\n",
        "model = tf.keras.Sequential([\n",
        "    tf.keras.layers.Embedding(input_dim=5000, output_dim=16),\n",
        "    tf.keras.layers.SpatialDropout1D(0.2),\n",
        "    tf.keras.layers.LSTM(100),\n",
        "    tf.keras.layers.Dense(64,activation='relu'),\n",
        "    tf.keras.layers.Dense(5, activation='softmax')\n",
        "])\n",
        "\n",
        "model.compile(loss='categorical_crossentropy', optimizer='adam', metrics=['accuracy'])\n",
        "print(model.summary())"
      ],
      "execution_count": 31,
      "outputs": [
        {
          "output_type": "stream",
          "text": [
            "Model: \"sequential\"\n",
            "_________________________________________________________________\n",
            "Layer (type)                 Output Shape              Param #   \n",
            "=================================================================\n",
            "embedding (Embedding)        (None, None, 16)          80000     \n",
            "_________________________________________________________________\n",
            "spatial_dropout1d (SpatialDr (None, None, 16)          0         \n",
            "_________________________________________________________________\n",
            "lstm (LSTM)                  (None, 100)               46800     \n",
            "_________________________________________________________________\n",
            "dense (Dense)                (None, 64)                6464      \n",
            "_________________________________________________________________\n",
            "dense_1 (Dense)              (None, 5)                 325       \n",
            "=================================================================\n",
            "Total params: 133,589\n",
            "Trainable params: 133,589\n",
            "Non-trainable params: 0\n",
            "_________________________________________________________________\n",
            "None\n"
          ],
          "name": "stdout"
        }
      ]
    },
    {
      "cell_type": "code",
      "metadata": {
        "colab": {
          "base_uri": "https://localhost:8080/"
        },
        "id": "WPI1-B2Est0j",
        "outputId": "d11e3e8e-82eb-4545-eba6-4ce1c5dad672"
      },
      "source": [
        "history = model.fit(padded_latih, label_latih, epochs=10, batch_size=64,validation_split=0.2,\n",
        "                    callbacks=[EarlyStopping(\n",
        "                        monitor='val_loss', patience=3, min_delta=0.0001, verbose = 2)\n",
        "                    ])"
      ],
      "execution_count": 33,
      "outputs": [
        {
          "output_type": "stream",
          "text": [
            "Epoch 1/10\n",
            "23/23 [==============================] - 72s 3s/step - loss: 0.3488 - accuracy: 0.8455 - val_loss: 0.5920 - val_accuracy: 0.7528\n",
            "Epoch 2/10\n",
            "23/23 [==============================] - 63s 3s/step - loss: 0.3001 - accuracy: 0.8420 - val_loss: 0.6699 - val_accuracy: 0.7331\n",
            "Epoch 3/10\n",
            "23/23 [==============================] - 62s 3s/step - loss: 0.2264 - accuracy: 0.9213 - val_loss: 0.5235 - val_accuracy: 0.8287\n",
            "Epoch 4/10\n",
            "23/23 [==============================] - 63s 3s/step - loss: 0.1659 - accuracy: 0.9508 - val_loss: 0.5491 - val_accuracy: 0.8567\n",
            "Epoch 5/10\n",
            "23/23 [==============================] - 62s 3s/step - loss: 0.0860 - accuracy: 0.9789 - val_loss: 0.4451 - val_accuracy: 0.8596\n",
            "Epoch 6/10\n",
            "23/23 [==============================] - 62s 3s/step - loss: 0.0367 - accuracy: 0.9902 - val_loss: 0.5795 - val_accuracy: 0.8624\n",
            "Epoch 7/10\n",
            "23/23 [==============================] - 62s 3s/step - loss: 0.0727 - accuracy: 0.9775 - val_loss: 0.4746 - val_accuracy: 0.8539\n",
            "Epoch 8/10\n",
            "23/23 [==============================] - 62s 3s/step - loss: 0.0365 - accuracy: 0.9923 - val_loss: 0.5661 - val_accuracy: 0.8652\n",
            "Epoch 00008: early stopping\n"
          ],
          "name": "stdout"
        }
      ]
    },
    {
      "cell_type": "markdown",
      "metadata": {
        "id": "XI6tLW5u1axE"
      },
      "source": [
        "**6.Melihat perbandingan akurasi dan loss antara test dan validation model dalam Grafik Plot**"
      ]
    },
    {
      "cell_type": "code",
      "metadata": {
        "colab": {
          "base_uri": "https://localhost:8080/",
          "height": 353
        },
        "id": "iCS5Yx6Ms0MU",
        "outputId": "8875dab1-76c2-4c9e-ba99-c080c762417d"
      },
      "source": [
        "plt.figure(figsize=(14, 5))\n",
        "\n",
        "# Accuracy plot\n",
        "plt.subplot(1, 2, 1)\n",
        "acc = history.history['accuracy']\n",
        "val_acc = history.history['val_accuracy']\n",
        "epochs = range(len(acc))\n",
        "acc_plot, = plt.plot(epochs, acc, 'r')\n",
        "val_acc_plot, = plt.plot(epochs, val_acc, 'b')\n",
        "plt.title('Training and Validation Accuracy')\n",
        "plt.legend([acc_plot, val_acc_plot], ['Training Accuracy', 'Validation Accuracy'])\n",
        "\n",
        "# Loss plot\n",
        "plt.subplot(1, 2, 2)\n",
        "loss = history.history['loss']\n",
        "val_loss = history.history['val_loss']\n",
        "epochs = range(len(loss))\n",
        "loss_plot, = plt.plot(epochs, loss, 'r')\n",
        "val_loss_plot, = plt.plot(epochs, val_loss, 'b')\n",
        "plt.title('Training and Validation Loss')\n",
        "plt.legend([loss_plot, val_loss_plot], ['Training Loss', 'Validation Loss'])"
      ],
      "execution_count": 36,
      "outputs": [
        {
          "output_type": "execute_result",
          "data": {
            "text/plain": [
              "<matplotlib.legend.Legend at 0x7f20e2f27e10>"
            ]
          },
          "metadata": {
            "tags": []
          },
          "execution_count": 36
        },
        {
          "output_type": "display_data",
          "data": {
            "image/png": "[encoded data removed]",
            "text/plain": [
              "<Figure size 1008x360 with 2 Axes>"
            ]
          },
          "metadata": {
            "tags": [],
            "needs_background": "light"
          }
        }
      ]
    },
    {
      "cell_type": "code",
      "metadata": {
        "id": "8tJcAWW9x5i3"
      },
      "source": [
        ""
      ],
      "execution_count": null,
      "outputs": []
    }
  ]
}